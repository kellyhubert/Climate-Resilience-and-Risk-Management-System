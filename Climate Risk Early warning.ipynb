{
 "cells": [
  {
   "cell_type": "markdown",
   "id": "fcc13910",
   "metadata": {},
   "source": [
    "Intergrated Landslide-Flood  Early Warning System"
   ]
  },
  {
   "cell_type": "code",
   "execution_count": 7,
   "id": "39640168",
   "metadata": {},
   "outputs": [
    {
     "ename": "ModuleNotFoundError",
     "evalue": "No module named 'geopandas'",
     "output_type": "error",
     "traceback": [
      "\u001b[1;31m---------------------------------------------------------------------------\u001b[0m",
      "\u001b[1;31mModuleNotFoundError\u001b[0m                       Traceback (most recent call last)",
      "Cell \u001b[1;32mIn[7], line 11\u001b[0m\n\u001b[0;32m      9\u001b[0m \u001b[38;5;28;01mimport\u001b[39;00m \u001b[38;5;21;01mnumpy\u001b[39;00m \u001b[38;5;28;01mas\u001b[39;00m \u001b[38;5;21;01mnp\u001b[39;00m\n\u001b[0;32m     10\u001b[0m \u001b[38;5;28;01mimport\u001b[39;00m \u001b[38;5;21;01mpandas\u001b[39;00m \u001b[38;5;28;01mas\u001b[39;00m \u001b[38;5;21;01mpd\u001b[39;00m\n\u001b[1;32m---> 11\u001b[0m \u001b[38;5;28;01mimport\u001b[39;00m \u001b[38;5;21;01mgeopandas\u001b[39;00m \u001b[38;5;28;01mas\u001b[39;00m \u001b[38;5;21;01mgpd\u001b[39;00m\n\u001b[0;32m     12\u001b[0m \u001b[38;5;28;01mimport\u001b[39;00m \u001b[38;5;21;01mrasterio\u001b[39;00m\n\u001b[0;32m     13\u001b[0m \u001b[38;5;28;01mfrom\u001b[39;00m \u001b[38;5;21;01mrasterio\u001b[39;00m\u001b[38;5;21;01m.\u001b[39;00m\u001b[38;5;21;01mplot\u001b[39;00m \u001b[38;5;28;01mimport\u001b[39;00m show\n",
      "\u001b[1;31mModuleNotFoundError\u001b[0m: No module named 'geopandas'"
     ]
    }
   ],
   "source": [
    "\"\"\"\n",
    "Installation of required Python, numpy, and pandas package\n",
    "pip intall numpy pandas geapandas rasterio folium plotty dash\n",
    "pip install sckit-learn matplotlib seaborn request beautfulsoup4\n",
    "pip install elevation xarray netcdf4 rastestats\n",
    "\"\"\"\n",
    "\n",
    "import os\n",
    "import numpy as np\n",
    "import pandas as pd\n",
    "import geopandas as gpd\n",
    "import rasterio\n",
    "from rasterio.plot import show\n",
    "import matplotlib.pyplot as plt\n",
    "import seaborn as sns\n",
    "import folium\n",
    "from sklearn.ensemble import RandomForestClassifier\n",
    "from sklearn.model_selection import train_test_split\n",
    "import requests\n",
    "import warnings\n",
    "warnings.filterwarnings('ignore')"
   ]
  },
  {
   "cell_type": "code",
   "execution_count": null,
   "id": "0653d044-b6b2-4c3b-90df-5b404b0f5ffa",
   "metadata": {},
   "outputs": [],
   "source": []
  },
  {
   "cell_type": "markdown",
   "id": "efc55f9d",
   "metadata": {},
   "source": [
    "Rwanda Climate Risk early Warning System\n",
    " \n",
    "Installation and setup script"
   ]
  },
  {
   "cell_type": "code",
   "execution_count": null,
   "id": "1707060d",
   "metadata": {},
   "outputs": [],
   "source": [
    "## Project directory structure\n",
    "\n",
    "def setup_project_structure():\n",
    "    \"\"\" organized folder structure for the project \"\"\"\n",
    "\n",
    "    directories = [\n",
    "        \"data/raw\",\n",
    "        \"data/processed\",\n",
    "        \"data/climate\",\n",
    "        \"data/geographic\",\n",
    "        \"data/socioeconomic\",\n",
    "        \"models\",\n",
    "        \"outputs/maps\",\n",
    "        \"outputs/reports\",\n",
    "        \"dashboards\",\n",
    "        \"scripts\"\n",
    "    ]\n",
    "\n",
    "    for directory in directories:\n",
    "        os.makedirs(directory,exist_ok=True)\n",
    "        print(f\"Created directory: {directory}\")"
   ]
  },
  {
   "cell_type": "code",
   "execution_count": null,
   "id": "c42d8f77",
   "metadata": {},
   "outputs": [],
   "source": [
    "## Configuration settings for Rwanda\n",
    "class RwandaConfig:\n",
    "    \"\"\"Configuration class for Rwanda-specific parameters\"\"\"\n",
    "\n",
    "    # Geographic bounds of Rwanda in decimal degrees\n",
    "    # These define the bounding box for spatial analysis and mapping\n",
    "    RWANDA_BOUNDS = {\n",
    "        'min_lon': 28.8617546755,  # Western-most longitude\n",
    "        'max_lon': 30.8995804700,  # Eastern-most longitude\n",
    "        'min_lat': -2.9389804700,  # Southern-most latitude\n",
    "        'max_lat': -1.0532659800   # Northern-most latitude\n",
    "        }\n",
    "    \n",
    "    # Administrative divisions for regional analysis\n",
    "    # Organized hierarchically from country to districts\n",
    "    ADMIN_LEVELS = {\n",
    "        'country': 'Rwanda',\n",
    "        'province': ['Kigali', 'Northern', 'Southern', 'Eastern', 'Western'],\n",
    "        'district': ['Gasabo', 'Ruhango', 'Rubavu', 'Huye', 'Musanze', 'Nyamagabe', 'Nyagatare', 'Rusizi', \n",
    "                    'Kicukiro', 'Nyarugenge', 'Kayonza', 'Karongi', 'Rutsiro', 'Gicumbi', 'Burera', \n",
    "                    'Ngororero', 'Nyabihu', 'Gakenke', 'Rulindo', 'Muhanga', 'Kamonyi', 'Bugesera', \n",
    "                    'Gatsibo', 'Kirehe']\n",
    "    }\n",
    "\n",
    "    # Major urban centers for focused analysis and reporting\n",
    "    MAJOR_CITIES = ['Kigali', 'Butare', 'Gisenyi', 'Cyangugu', 'Rwamagana']\n",
    "\n",
    "    # Hazard thresholds for early warning systems\n",
    "    # These values need calibration with local historical data\n",
    "    RAINFALL_THRESHOLDS = {\n",
    "        'landslide': 50,     # mm of rain in 24 hours that may trigger landslides\n",
    "        'flood_warning': 75, # mm of rain in 24 hours that may cause flooding\n",
    "        'drought_treshold': 30  # percentage of normal rainfall indicating drought conditions\n",
    "    }\n",
    "\n",
    "    # Weighting factors for landslide risk assessment model\n",
    "    # Weights sum to 1.0 representing relative importance of each factor\n",
    "    MODEL_PARAMS = {\n",
    "        'landslide_factors': {\n",
    "            'slope_weight': 0.25,            # Terrain steepness\n",
    "            'rainfall_weight': 0.20,         # Precipitation intensity\n",
    "            'soil_weight': 0.15,             # Soil type and characteristics\n",
    "            'landuse_weight': 0.15,          # Land cover/vegetation\n",
    "            'goelogy_weight': 0.15,          # Underlying rock formations\n",
    "            'infrastructure_weight': 0.10    # Human-built structures\n",
    "        }\n",
    "    }"
   ]
  },
  {
   "cell_type": "markdown",
   "id": "826111a7",
   "metadata": {},
   "source": [
    "We have to check if all required packages are installed"
   ]
  },
  {
   "cell_type": "code",
   "execution_count": null,
   "id": "85d7d02b",
   "metadata": {},
   "outputs": [],
   "source": [
    "def check_dependencies():\n",
    "    \"\"\"Check if all required packages are installed\"\"\"\n",
    "    # Define a list of packages required for the project\n",
    "    required_packages = [\n",
    "        'numpy', 'pandas', 'geopandas', 'rasterio', 'folium',\n",
    "        'sklearn', 'matplotlib', 'seaborn'\n",
    "    ]\n",
    "    # Initialize an empty list to track missing packages\n",
    "    missing_packages = []\n",
    "    \n",
    "    # Attempt to import each package and track failures\n",
    "    for package in required_packages:\n",
    "        try:\n",
    "            __import__(package)  # Dynamically import the package\n",
    "            print(f\"✓{package} is installed.\")\n",
    "        except ImportError:\n",
    "            # If import fails, add to missing packages list\n",
    "            missing_packages.append(package)\n",
    "            print(f\"✗ {package} is NOT installed\")\n",
    "\n",
    "    # Provide installation instructions if any packages are missing\n",
    "    if missing_packages:\n",
    "        print(f\"\\nInstall missing packages with:\")\n",
    "        print(f\"pip install {' '.join(missing_packages)}\")\n",
    "    else:\n",
    "       print(\"\\n✓ All required packages are installed!\")\n",
    "       \n",
    "       # Return True if all packages are installed, False otherwise\n",
    "       return len(missing_packages) == 0"
   ]
  },
  {
   "cell_type": "markdown",
   "id": "6e333bfd",
   "metadata": {},
   "source": [
    "Download Rwanda administrative boundaries"
   ]
  },
  {
   "cell_type": "code",
   "execution_count": null,
   "id": "5ced66c7",
   "metadata": {},
   "outputs": [],
   "source": [
    "def download_rwanda_boundaries():\n",
    "    \"\"\"Download Rwanda administrative boundaries from GADM\"\"\"\n",
    "    url = \"https://geodata.ucdavis.edu/gadm/gadm4.1/shp/gadm41_RWA_shp.zip\"\n",
    "    response = requests.get(url)\n",
    "    zip_path = r'C:\\Users\\educa\\Desktop\\Climate Resialance in Rwanda\\data\\raw\\gadm41_RWA_shp.zip'\n",
    "    \n",
    "    with open(zip_path, 'wb') as file:\n",
    "        file.write(response.content)\n",
    "    \n",
    "    print(f\"Downloaded Rwanda boundaries to {zip_path}\")\n",
    "    \n",
    "    # Unzip the file\n",
    "    import zipfile\n",
    "    with zipfile.ZipFile(zip_path, 'r') as zip_ref:\n",
    "        zip_ref.extractall(\"data/raw/\")\n",
    "    \n",
    "    print(\"Extracted Rwanda boundaries.\")"
   ]
  },
  {
   "cell_type": "markdown",
   "id": "b1f4dfd6",
   "metadata": {},
   "source": [
    "Lets create a sample weather station data"
   ]
  },
  {
   "cell_type": "code",
   "execution_count": null,
   "id": "9d729799",
   "metadata": {},
   "outputs": [],
   "source": [
    "def create_sample_data():\n",
    "    \"\"\" Create sample data sttructure for testing\"\"\"\n",
    "\n",
    "    #create a sample whether station data\"\n",
    "    sample_stations = pd.DataFrame({\n",
    "        'station_id': ['ST001', 'ST002', 'ST003','ST004','ST005'],\n",
    "        'station_name': ['Kigali', 'Huye', 'Gisenyi', 'Cyangugu', 'Rwamagana'],\n",
    "        'latitude': [-1.9706,-2.6067, -1.4994,-2.4843,-2],\n",
    "        'longitude': [30.1394,29.7394,29.6338,28.9086,30.7677],\n",
    "        'elevation': [1500, 1700, 1600, 1400, 1550],# in meters,\n",
    "        'province': ['Kigali', 'Southern', 'Western', 'Western', 'Eastern']\n",
    "    })\n",
    "\n",
    "    sample_stations.to_csv(r'C:\\Users\\educa\\Desktop\\Climate Resialance in Rwanda\\data\\raw\\weather_stations.csv', index=False)\n",
    "    print(\"Create sample weather stations data\")\n",
    "\n",
    "    #create a sample historical events data\n",
    "    sample_events = pd.DataFrame({\n",
    "        'date': pd.date_range(start='2020-01-01', periods=100, freq='D'),\n",
    "        'event_type': np.random.choice(['flood', 'landslide', 'drought'], size=100),\n",
    "        'district': np.random.choice(RwandaConfig.ADMIN_LEVELS['district'], size=100),\n",
    "        'casualties': np.random.randint(0, 10, size=100),\n",
    "        'affected_population': np.random.randint(50, 1000, size=100),\n",
    "        'rainfall_mm': np.random.uniform(0, 200, size=100)\n",
    "    })\n",
    "\n",
    "    sample_events.to_csv(r'C:\\Users\\educa\\Desktop\\Climate Resialance in Rwanda\\data\\raw\\historical_events.csv', index=False)\n",
    "    print(\"Created sample historical events data\")\n"
   ]
  },
  {
   "cell_type": "markdown",
   "id": "a979cc9a",
   "metadata": {},
   "source": [
    "Main setup function"
   ]
  },
  {
   "cell_type": "code",
   "execution_count": null,
   "id": "69be54a6",
   "metadata": {},
   "outputs": [],
   "source": [
    "def main():\n",
    "    \"\"\" Main setup function \"\"\"\n",
    "\n",
    "    print(\"=== Rwanda Climate Risk Early Warning System Setup ===\\n\")\n",
    "\n",
    "    # Step 1: Check dependencies\n",
    "    if not check_dependencies():\n",
    "        print(\"Please install the missing packages and rerun the setup.\")\n",
    "        return\n",
    "    # Step 2: Setup project structure\n",
    "    setup_project_structure()\n",
    "\n",
    "    # Step 3: Download Rwanda boundaries\n",
    "    download_rwanda_boundaries()\n",
    "\n",
    "    # Step 4: Create sample data\n",
    "    create_sample_data()\n",
    "\n",
    "    print(\"\\nSetup complete! You can now start developing the Climate Risk Early Warning System for Rwanda.\")\n",
    "if __name__ == \"__main__\":\n",
    "    main()"
   ]
  },
  {
   "cell_type": "code",
   "execution_count": null,
   "id": "b6d5c8ba",
   "metadata": {},
   "outputs": [],
   "source": []
  }
 ],
 "metadata": {
  "kernelspec": {
   "display_name": "Python [conda env:Deskto]",
   "language": "python",
   "name": "conda-env-Deskto-py"
  },
  "language_info": {
   "codemirror_mode": {
    "name": "ipython",
    "version": 3
   },
   "file_extension": ".py",
   "mimetype": "text/x-python",
   "name": "python",
   "nbconvert_exporter": "python",
   "pygments_lexer": "ipython3",
   "version": "3.12.7"
  }
 },
 "nbformat": 4,
 "nbformat_minor": 5
}
