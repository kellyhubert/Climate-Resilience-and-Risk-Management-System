{
 "cells": [
  {
   "cell_type": "markdown",
   "id": "fcc13910",
   "metadata": {},
   "source": [
    "Intergrated Landslide-Flood  Early Warning System"
   ]
  },
  {
   "cell_type": "markdown",
   "id": "efc55f9d",
   "metadata": {},
   "source": [
    "Rwanda Climate Risk early Warning System\n",
    " \n",
    "Installation and setup script"
   ]
  },
  {
   "cell_type": "code",
   "execution_count": 1,
   "id": "75112c44",
   "metadata": {},
   "outputs": [
    {
     "name": "stdout",
     "output_type": "stream",
     "text": [
      "Requirement already satisfied: rasterio in c:\\users\\educa\\appdata\\roaming\\python\\python312\\site-packages (1.4.3)\n",
      "Requirement already satisfied: affine in c:\\users\\educa\\appdata\\roaming\\python\\python312\\site-packages (from rasterio) (2.4.0)\n",
      "Requirement already satisfied: attrs in c:\\users\\educa\\deskto\\lib\\site-packages (from rasterio) (23.1.0)\n",
      "Requirement already satisfied: certifi in c:\\users\\educa\\deskto\\lib\\site-packages (from rasterio) (2024.8.30)\n",
      "Requirement already satisfied: click>=4.0 in c:\\users\\educa\\deskto\\lib\\site-packages (from rasterio) (8.1.7)\n",
      "Requirement already satisfied: cligj>=0.5 in c:\\users\\educa\\appdata\\roaming\\python\\python312\\site-packages (from rasterio) (0.7.2)\n",
      "Requirement already satisfied: numpy>=1.24 in c:\\users\\educa\\deskto\\lib\\site-packages (from rasterio) (1.26.4)\n",
      "Requirement already satisfied: click-plugins in c:\\users\\educa\\appdata\\roaming\\python\\python312\\site-packages (from rasterio) (1.1.1.2)\n",
      "Requirement already satisfied: pyparsing in c:\\users\\educa\\deskto\\lib\\site-packages (from rasterio) (3.1.2)\n",
      "Requirement already satisfied: colorama in c:\\users\\educa\\deskto\\lib\\site-packages (from click>=4.0->rasterio) (0.4.6)\n"
     ]
    }
   ],
   "source": [
    "!pip install rasterio"
   ]
  },
  {
   "cell_type": "code",
   "execution_count": 2,
   "id": "39640168",
   "metadata": {},
   "outputs": [],
   "source": [
    "\"\"\"\n",
    "Installation of required Python, numpy, and pandas package\n",
    "pip intall numpy pandas geapandas rasterio folium plotty dash\n",
    "pip install sckit-learn matplotlib seaborn request beautfulsoup4\n",
    "pip install elevation xarray netcdf4 rastestats\n",
    "\"\"\"\n",
    "\n",
    "import os\n",
    "import numpy as np\n",
    "import pandas as pd\n",
    "import geopandas as gpd\n",
    "import rasterio\n",
    "from rasterio.plot import show\n",
    "import matplotlib.pyplot as plt\n",
    "import seaborn as sns\n",
    "import folium\n",
    "from sklearn.ensemble import RandomForestClassifier\n",
    "from sklearn.model_selection import train_test_split\n",
    "import requests\n",
    "import warnings\n",
    "warnings.filterwarnings('ignore')"
   ]
  },
  {
   "cell_type": "code",
   "execution_count": null,
   "id": "1707060d",
   "metadata": {},
   "outputs": [],
   "source": [
    "## Project directory structure\n",
    "\n",
    "def setup_project_structure():\n",
    "    \"\"\" organized folder structure for the project \"\"\"\n",
    "\n",
    "    directories = [\n",
    "        \"data/raw\",\n",
    "        \"data/processed\",\n",
    "        \"data/climate\",\n",
    "        \"data/geographic\",\n",
    "        \"data/socioeconomic\",\n",
    "        \"models\",\n",
    "        \"outputs/maps\",\n",
    "        \"outputs/reports\",\n",
    "        \"dashboards\",\n",
    "        \"scripts\"\n",
    "    ]\n",
    "\n",
    "    for directory in directories:\n",
    "        os.makedirs(directory,exist_ok=True)\n",
    "        print(f\"Created directory: {directory}\")"
   ]
  },
  {
   "cell_type": "code",
   "execution_count": null,
   "id": "c42d8f77",
   "metadata": {},
   "outputs": [],
   "source": [
    "## Configuration settings for Rwanda\n",
    "\n",
    "\n",
    "\n",
    "class RwandaConfig:\n",
    "    \"\"\"Comfuguration class for Rwabda-specific parameters\"\"\"\n",
    "\n",
    "   #Geographic bounds of Rwanda\n",
    "    RWANDA_BOUNDS = {\n",
    "        'min_lon': 28.8617546755,\n",
    "        'max_lon': 30.8995804700,\n",
    "        'min_lat': -2.9389804700,\n",
    "        'max_lat': -1.0532659800\n",
    "        }\n",
    "    # Administrative Levels\n",
    "    ADMIN_LEVELS = {\n",
    "        'country': 'Rwanda',\n",
    "        'province': ['Kigali', 'Northern', 'Southern', 'Eastern', 'Western'],\n",
    "        'district': ['Gasabo', 'Ruhango', 'Rubavu', 'Huye', 'Musanze', 'Nyamagabe', 'Nyagatare', 'Rusizi', 'Kicukiro', 'Nyarugenge', 'Kayonza', 'Karongi', 'Rutsiro', 'Gicumbi', 'Burera', 'Ngororero', 'Nyabihu', 'Gakenke', 'Rulindo', 'Muhanga', 'Kamonyi', 'Bugesera', 'Gatsibo', 'Kirehe']\n",
    "    }\n",
    "\n",
    "    #Key cities for focused analysis\n",
    "    MAJOR_CITIES = ['Kigali', 'Butare', 'Gisenyi', 'Cyangugu', 'Rwamagana']\n",
    "\n",
    "    #Hazard Treshold (tobe calibilated with local data)\n",
    "    RAINFALL_THRESHOLDS = {\n",
    "        'landslide': 50,  # mm in 24 hours\n",
    "        'flood_warning': 75,  # mm in 24 hours\n",
    "        'drought_treshold': 30 # %of normal rainfall \n",
    "    }\n",
    "\n",
    "    #model parameters\n",
    "    MODEL_PARAMS = {\n",
    "        'landslide_factors': {\n",
    "            'slope_weight': 0.25,\n",
    "            'rainfall_weight': 0.20,\n",
    "            'soil_weight': 0.15,\n",
    "            'landuse_weight': 0.15,\n",
    "            'goelogy_weight': 0.15,\n",
    "            'infrastructure_weight': 0.10\n",
    "        }\n",
    "    }"
   ]
  },
  {
   "cell_type": "markdown",
   "id": "826111a7",
   "metadata": {},
   "source": [
    "We have to check if all required packages are installed"
   ]
  },
  {
   "cell_type": "code",
   "execution_count": null,
   "id": "85d7d02b",
   "metadata": {},
   "outputs": [],
   "source": [
    "def check_dependencies():\n",
    "    \"\"\"Check if all required packages are installed\"\"\"\n",
    "    required_packages = [\n",
    "        'numpy', 'pandas', 'geopandas', 'rasterio', 'folium',\n",
    "        'sklearn', 'matplotlib', 'seaborn'\n",
    "    ]\n",
    "    missing_packages = []\n",
    "    for package in required_packages:\n",
    "        try:\n",
    "            __import__(package)\n",
    "            print(f\"✓{package} is installed.\")\n",
    "        except ImportError:\n",
    "            missing_packages.append(package)\n",
    "            print(f\"✗ {package} is NOT installed\")\n",
    "\n",
    "    if missing_packages:\n",
    "        print(f\"\\nInstall missing packages with:\")\n",
    "        print(f\"pip install {' '.join(missing_packages)}\")\n",
    "    else:\n",
    "       print(\"\\n✓ All required packages are installed!\")\n",
    "       \n",
    "       return len(missing_packages) == 0"
   ]
  },
  {
   "cell_type": "markdown",
   "id": "6e333bfd",
   "metadata": {},
   "source": [
    "Download Rwanda administrative boundaries"
   ]
  },
  {
   "cell_type": "code",
   "execution_count": null,
   "id": "5ced66c7",
   "metadata": {},
   "outputs": [],
   "source": [
    "def download_rwanda_boundaries():\n",
    "    \"\"\"Download Rwanda administrative boundaries from GADM\"\"\"\n",
    "    url = \"https://geodata.ucdavis.edu/gadm/gadm4.1/shp/gadm41_RWA_shp.zip\"\n",
    "    response = requests.get(url)\n",
    "    zip_path = \"data/raw/gadm41_RWA_shp.zip\"\n",
    "    \n",
    "    with open(zip_path, 'wb') as file:\n",
    "        file.write(response.content)\n",
    "    \n",
    "    print(f\"Downloaded Rwanda boundaries to {zip_path}\")\n",
    "    \n",
    "    # Unzip the file\n",
    "    import zipfile\n",
    "    with zipfile.ZipFile(zip_path, 'r') as zip_ref:\n",
    "        zip_ref.extractall(\"data/raw/\")\n",
    "    \n",
    "    print(\"Extracted Rwanda boundaries.\")"
   ]
  },
  {
   "cell_type": "markdown",
   "id": "b1f4dfd6",
   "metadata": {},
   "source": [
    "Lets create a sample weather station data"
   ]
  },
  {
   "cell_type": "code",
   "execution_count": null,
   "id": "9d729799",
   "metadata": {},
   "outputs": [],
   "source": [
    "def create_sample_data():\n",
    "    \"\"\" Create sample data sttructure for testing\"\"\"\n",
    "\n",
    "    #create a sample whether station data\"\n",
    "    sample_stations = pd.DataFrame({\n",
    "        'station_id': ['ST001', 'ST002', 'ST003','ST004','ST005'],\n",
    "        'station_name': ['Kigali', 'Huye', 'Gisenyi', 'Cyangugu', 'Rwamagana'],\n",
    "        'latitude': [-1.9706,-2.6067, -1.4994,-2.4843,-2],\n",
    "        'longitude': [30.1394,29.7394,29.6338,28.9086,30.7677],\n",
    "        'elevation': [1500, 1700, 1600, 1400, 1550],# in meters,\n",
    "        'province': ['Kigali', 'Southern', 'Western', 'Western', 'Eastern']\n",
    "    })\n",
    "\n",
    "    sample_stations.to_csv(\"data/climate/weather_stations.csv\", index=False)\n",
    "    print(\"Create sample weather stations data\")\n",
    "\n",
    "    #create a sample historical events data\n",
    "    sample_events = pd.DataFrame({\n",
    "        'date': pd.date_range(start='2020-01-01', periods=100, freq='D'),\n",
    "        'event_type': np.random.choice(['flood', 'landslide', 'drought'], size=100),\n",
    "        'district': np.random.choice(RwandaConfig.ADMIN_LEVELS['district'], size=100),\n",
    "        'casualties': np.random.randint(0, 10, size=100),\n",
    "        'affected_population': np.random.randint(50, 1000, size=100),\n",
    "        'rainfall_mm': np.random.uniform(0, 200, size=100)\n",
    "    })\n",
    "\n",
    "    sample_events.to_csv(\"data/raw/historical_events.csv\", index=False)\n",
    "    print(\"Created sample historical events data\")\n"
   ]
  },
  {
   "cell_type": "markdown",
   "id": "a979cc9a",
   "metadata": {},
   "source": [
    "Main setup function"
   ]
  },
  {
   "cell_type": "code",
   "execution_count": null,
   "id": "69be54a6",
   "metadata": {},
   "outputs": [
    {
     "name": "stdout",
     "output_type": "stream",
     "text": [
      "=== Rwanda Climate Risk Early Warning System Setup ===\n",
      "\n",
      "✓numpy is installed.\n",
      "✓pandas is installed.\n",
      "✗ geopandas is NOT installed\n",
      "✗ rasterio is NOT installed\n",
      "✗ folium is NOT installed\n",
      "✓sklearn is installed.\n",
      "✓matplotlib is installed.\n",
      "✓seaborn is installed.\n",
      "\n",
      "Install missing packages with:\n",
      "pip install geopandas rasterio folium\n",
      "Please install the missing packages and rerun the setup.\n"
     ]
    }
   ],
   "source": [
    "def main():\n",
    "    \"\"\" Main setup function \"\"\"\n",
    "\n",
    "    print(\"=== Rwanda Climate Risk Early Warning System Setup ===\\n\")\n",
    "\n",
    "    # Step 1: Check dependencies\n",
    "    if not check_dependencies():\n",
    "        print(\"Please install the missing packages and rerun the setup.\")\n",
    "        return\n",
    "    # Step 2: Setup project structure\n",
    "    setup_project_structure()\n",
    "\n",
    "    # Step 3: Download Rwanda boundaries\n",
    "    download_rwanda_boundaries()\n",
    "\n",
    "    # Step 4: Create sample data\n",
    "    create_sample_data()\n",
    "\n",
    "    print(\"\\nSetup complete! You can now start developing the Climate Risk Early Warning System for Rwanda.\")\n",
    "if __name__ == \"__main__\":\n",
    "    main()"
   ]
  },
  {
   "cell_type": "code",
   "execution_count": null,
   "id": "b6d5c8ba",
   "metadata": {},
   "outputs": [],
   "source": []
  }
 ],
 "metadata": {
  "kernelspec": {
   "display_name": "base",
   "language": "python",
   "name": "python3"
  },
  "language_info": {
   "codemirror_mode": {
    "name": "ipython",
    "version": 3
   },
   "file_extension": ".py",
   "mimetype": "text/x-python",
   "name": "python",
   "nbconvert_exporter": "python",
   "pygments_lexer": "ipython3",
   "version": "3.12.7"
  }
 },
 "nbformat": 4,
 "nbformat_minor": 5
}
